{
  "nbformat": 4,
  "nbformat_minor": 0,
  "metadata": {
    "colab": {
      "provenance": []
    },
    "kernelspec": {
      "name": "python3",
      "display_name": "Python 3"
    },
    "language_info": {
      "name": "python"
    }
  },
  "cells": [
    {
      "cell_type": "code",
      "execution_count": 1,
      "metadata": {
        "id": "Rj959znzwpYb"
      },
      "outputs": [],
      "source": [
        "import numpy as np\n",
        "import pandas as pd"
      ]
    },
    {
      "cell_type": "code",
      "source": [
        "# Set random seed for reproducibility\n",
        "np.random.seed(42)"
      ],
      "metadata": {
        "id": "Y_Z0y3ZZwwF1"
      },
      "execution_count": 2,
      "outputs": []
    },
    {
      "cell_type": "code",
      "source": [
        "# Number of historical records\n",
        "num_records = 1000"
      ],
      "metadata": {
        "id": "5j1hlaXwwzcg"
      },
      "execution_count": 3,
      "outputs": []
    },
    {
      "cell_type": "code",
      "source": [
        "# Generate historical demand data (Normal distribution)\n",
        "demand = np.random.poisson(lam=50, size=num_records)"
      ],
      "metadata": {
        "id": "xSecbrNHw1km"
      },
      "execution_count": 4,
      "outputs": []
    },
    {
      "cell_type": "code",
      "source": [
        "# Generate lead time (Discrete values: 1 to 10 days)\n",
        "lead_time = np.random.randint(1, 11, size=num_records)"
      ],
      "metadata": {
        "id": "WK-9me3nw4R9"
      },
      "execution_count": 5,
      "outputs": []
    },
    {
      "cell_type": "code",
      "source": [
        "# Generate inventory levels (Normal distribution with some noise)\n",
        "inventory = np.maximum(0, np.random.normal(loc=100, scale=20, size=num_records).astype(int))"
      ],
      "metadata": {
        "id": "YeV5IG8fxOjk"
      },
      "execution_count": 11,
      "outputs": []
    },
    {
      "cell_type": "code",
      "source": [
        "# Generate order quantity based on demand fluctuation\n",
        "order_quantity = np.maximum(0, demand + np.random.randint(-10, 10, size=num_records))"
      ],
      "metadata": {
        "id": "UHdLVeUexBKB"
      },
      "execution_count": 12,
      "outputs": []
    },
    {
      "cell_type": "code",
      "source": [
        "# Generate supplier reliability (percentage between 80% and 100%)\n",
        "supplier_reliability = np.random.uniform(0.8, 1.0, num_records)"
      ],
      "metadata": {
        "id": "PTIz9a5ixD9R"
      },
      "execution_count": 13,
      "outputs": []
    },
    {
      "cell_type": "code",
      "source": [
        "# Create DataFrame\n",
        "historical_data = pd.DataFrame({\n",
        "    \"Date\": pd.date_range(start=\"2024-01-01\", periods=num_records, freq=\"D\"),\n",
        "    \"Demand\": demand,\n",
        "    \"Lead_Time\": lead_time,\n",
        "    \"Inventory_Level\": inventory,\n",
        "    \"Order_Quantity\": order_quantity,\n",
        "    \"Supplier_Reliability\": supplier_reliability\n",
        "})"
      ],
      "metadata": {
        "id": "dkEjN2MtxGIi"
      },
      "execution_count": 14,
      "outputs": []
    },
    {
      "cell_type": "code",
      "source": [
        "# Save to CSV\n",
        "historical_data.to_csv(\"historical_supply_chain_data.csv\", index=False)"
      ],
      "metadata": {
        "id": "kER1A6XmxI3T"
      },
      "execution_count": 15,
      "outputs": []
    },
    {
      "cell_type": "code",
      "source": [
        "# Display first few rows\n",
        "print(historical_data.head())"
      ],
      "metadata": {
        "colab": {
          "base_uri": "https://localhost:8080/"
        },
        "id": "RD_Cf-ZixV6-",
        "outputId": "d7487ed3-5426-4b22-fc7a-5f0bad8e7f78"
      },
      "execution_count": 16,
      "outputs": [
        {
          "output_type": "stream",
          "name": "stdout",
          "text": [
            "        Date  Demand  Lead_Time  Inventory_Level  Order_Quantity  \\\n",
            "0 2024-01-01      47          3               87              51   \n",
            "1 2024-01-02      55          4              103              54   \n",
            "2 2024-01-03      42         10              110              40   \n",
            "3 2024-01-04      52          6               56              50   \n",
            "4 2024-01-05      58         10               99              67   \n",
            "\n",
            "   Supplier_Reliability  \n",
            "0              0.888307  \n",
            "1              0.898123  \n",
            "2              0.969754  \n",
            "3              0.941212  \n",
            "4              0.898091  \n"
          ]
        }
      ]
    },
    {
      "cell_type": "code",
      "source": [],
      "metadata": {
        "id": "MIskjBcGxXOq"
      },
      "execution_count": null,
      "outputs": []
    }
  ]
}